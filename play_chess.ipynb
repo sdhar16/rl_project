{
 "cells": [
  {
   "cell_type": "markdown",
   "metadata": {},
   "source": [
    "# Reinforcement learning project"
   ]
  },
  {
   "cell_type": "code",
   "execution_count": 1,
   "metadata": {},
   "outputs": [],
   "source": [
    "import copy\n",
    "\n",
    "import matplotlib.pyplot as plt\n",
    "import numpy as np\n",
    "\n",
    "from Chess_env import *\n",
    "from degree_freedom_king1 import *\n",
    "from degree_freedom_king2 import *\n",
    "from degree_freedom_queen import *\n",
    "from generate_game import *\n",
    "from neural_network import *\n",
    "from utils import *"
   ]
  },
  {
   "cell_type": "markdown",
   "metadata": {},
   "source": [
    "### Set Seed"
   ]
  },
  {
   "cell_type": "code",
   "execution_count": 2,
   "metadata": {},
   "outputs": [],
   "source": [
    "np.random.seed(42)"
   ]
  },
  {
   "cell_type": "markdown",
   "metadata": {},
   "source": [
    "### Set Hyperparameters"
   ]
  },
  {
   "cell_type": "code",
   "execution_count": 3,
   "metadata": {},
   "outputs": [],
   "source": [
    "N_episodes = 100000   # number of episodes\n",
    "epsilon_0 = 0.20      # starting value for epsilon greedy\n",
    "beta = 0.00005        # epsilon decay rate\n",
    "gamma = 0.85          # discount factor\n",
    "eta = 0.0001          # learning rate for neural netowork\n",
    "n_target_updates = 10 # freuqency of update for target network\n",
    "\n",
    "# N_episodes = 100000   # number of episodes\n",
    "# epsilon_0 = 0.20      # starting value for epsilon greedy\n",
    "# beta = 0.0001         # epsilon decay rate\n",
    "# gamma = 0.50          # discount factor\n",
    "# eta = 0.0001          # learning rate for neural netowork\n",
    "# n_target_updates = 10 # freuqency of update for target network\n"
   ]
  },
  {
   "cell_type": "markdown",
   "metadata": {},
   "source": [
    "### Define environment"
   ]
  },
  {
   "cell_type": "code",
   "execution_count": 4,
   "metadata": {},
   "outputs": [],
   "source": [
    "size_board = 4\n",
    "\n",
    "env = Chess_Env(size_board)\n",
    "S, X, allowed_a = env.Initialise_game()"
   ]
  },
  {
   "cell_type": "markdown",
   "metadata": {},
   "source": [
    "### Define neural network"
   ]
  },
  {
   "cell_type": "code",
   "execution_count": 5,
   "metadata": {},
   "outputs": [],
   "source": [
    "N_a = np.shape(allowed_a)[0]   # total number of possible actions\n",
    "N_in = np.shape(X)[0]          # input size to network\n",
    "N_h = 256                      # number of hidden neurons\n",
    "\n",
    "model_nn = NeuralNetwork(input_size=N_in, output_size=N_a, hidden_size=N_h ,learning_rate = eta)  # main network\n",
    "target_nn = copy.deepcopy(model_nn)                                                               # target network"
   ]
  },
  {
   "cell_type": "markdown",
   "metadata": {},
   "source": [
    "### Saving variables"
   ]
  },
  {
   "cell_type": "code",
   "execution_count": 6,
   "metadata": {},
   "outputs": [],
   "source": [
    "# SAVING VARIABLES\n",
    "r_save = []       # save total rewards per episode\n",
    "n_moves_save = [] # save number of moves per episode\n",
    "win_draw = []     # save whether agent won or draw"
   ]
  },
  {
   "cell_type": "markdown",
   "metadata": {},
   "source": [
    "# SARSA"
   ]
  },
  {
   "cell_type": "code",
   "execution_count": 7,
   "metadata": {},
   "outputs": [
    {
     "name": "stdout",
     "output_type": "stream",
     "text": [
      "Episode:   1000.0, Mean reward: +3.30, Mean moves:  9.61, Win %: 0.760\n",
      "Episode:   2000.0, Mean reward: +4.67, Mean moves:  7.31, Win %: 0.800\n",
      "Episode:   3000.0, Mean reward: +6.29, Mean moves:  6.46, Win %: 0.870\n",
      "Episode:   4000.0, Mean reward: +6.81, Mean moves:  5.15, Win %: 0.880\n",
      "Episode:   5000.0, Mean reward: +7.50, Mean moves:  5.58, Win %: 0.920\n",
      "Episode:   6000.0, Mean reward: +8.37, Mean moves:  4.53, Win %: 0.950\n",
      "Episode:   7000.0, Mean reward: +6.36, Mean moves:  6.16, Win %: 0.870\n",
      "Episode:   8000.0, Mean reward: +6.20, Mean moves:  4.40, Win %: 0.840\n",
      "Episode:   9000.0, Mean reward: +8.64, Mean moves:  4.25, Win %: 0.960\n",
      "Episode:  10000.0, Mean reward: +8.61, Mean moves:  4.37, Win %: 0.960\n",
      "Episode:  11000.0, Mean reward: +8.33, Mean moves:  4.68, Win %: 0.950\n",
      "Episode:  12000.0, Mean reward: +8.38, Mean moves:  3.67, Win %: 0.940\n",
      "Episode:  13000.0, Mean reward: +8.65, Mean moves:  4.21, Win %: 0.960\n",
      "Episode:  14000.0, Mean reward: +7.84, Mean moves:  4.22, Win %: 0.920\n",
      "Episode:  15000.0, Mean reward: +8.62, Mean moves:  4.30, Win %: 0.960\n",
      "Episode:  16000.0, Mean reward: +8.60, Mean moves:  4.42, Win %: 0.960\n",
      "Episode:  17000.0, Mean reward: +7.89, Mean moves:  4.02, Win %: 0.920\n",
      "Episode:  18000.0, Mean reward: +7.71, Mean moves:  3.95, Win %: 0.910\n",
      "Episode:  19000.0, Mean reward: +7.56, Mean moves:  3.77, Win %: 0.900\n",
      "Episode:  20000.0, Mean reward: +9.09, Mean moves:  4.04, Win %: 0.980\n",
      "Episode:  21000.0, Mean reward: +8.87, Mean moves:  4.14, Win %: 0.970\n",
      "Episode:  22000.0, Mean reward: +9.17, Mean moves:  3.71, Win %: 0.980\n",
      "Episode:  23000.0, Mean reward: +8.94, Mean moves:  3.85, Win %: 0.970\n",
      "Episode:  24000.0, Mean reward: +8.73, Mean moves:  3.89, Win %: 0.960\n",
      "Episode:  25000.0, Mean reward: +9.60, Mean moves:  3.62, Win %: 1.000\n",
      "Episode:  26000.0, Mean reward: +9.35, Mean moves:  3.79, Win %: 0.990\n",
      "Episode:  27000.0, Mean reward: +9.08, Mean moves:  4.07, Win %: 0.980\n",
      "Episode:  28000.0, Mean reward: +8.82, Mean moves:  3.50, Win %: 0.960\n",
      "Episode:  29000.0, Mean reward: +8.80, Mean moves:  4.40, Win %: 0.970\n",
      "Episode:  30000.0, Mean reward: +8.35, Mean moves:  3.80, Win %: 0.940\n",
      "Episode:  31000.0, Mean reward: +8.51, Mean moves:  3.96, Win %: 0.950\n",
      "Episode:  32000.0, Mean reward: +9.37, Mean moves:  3.71, Win %: 0.990\n",
      "Episode:  33000.0, Mean reward: +8.64, Mean moves:  3.42, Win %: 0.950\n",
      "Episode:  34000.0, Mean reward: +9.17, Mean moves:  3.71, Win %: 0.980\n",
      "Episode:  35000.0, Mean reward: +9.37, Mean moves:  3.73, Win %: 0.990\n",
      "Episode:  36000.0, Mean reward: +9.39, Mean moves:  3.64, Win %: 0.990\n",
      "Episode:  37000.0, Mean reward: +8.97, Mean moves:  3.71, Win %: 0.970\n",
      "Episode:  38000.0, Mean reward: +8.99, Mean moves:  3.64, Win %: 0.970\n",
      "Episode:  39000.0, Mean reward: +9.69, Mean moves:  3.26, Win %: 1.000\n",
      "Episode:  40000.0, Mean reward: +8.98, Mean moves:  3.66, Win %: 0.970\n",
      "Episode:  41000.0, Mean reward: +9.35, Mean moves:  3.79, Win %: 0.990\n",
      "Episode:  42000.0, Mean reward: +8.47, Mean moves:  3.33, Win %: 0.940\n",
      "Episode:  43000.0, Mean reward: +9.12, Mean moves:  3.94, Win %: 0.980\n",
      "Episode:  44000.0, Mean reward: +9.58, Mean moves:  3.69, Win %: 1.000\n",
      "Episode:  45000.0, Mean reward: +8.78, Mean moves:  3.70, Win %: 0.960\n",
      "Episode:  46000.0, Mean reward: +9.42, Mean moves:  3.53, Win %: 0.990\n",
      "Episode:  47000.0, Mean reward: +9.20, Mean moves:  3.62, Win %: 0.980\n",
      "Episode:  48000.0, Mean reward: +8.81, Mean moves:  3.56, Win %: 0.960\n",
      "Episode:  49000.0, Mean reward: +9.19, Mean moves:  3.65, Win %: 0.980\n",
      "Episode:  50000.0, Mean reward: +9.61, Mean moves:  3.55, Win %: 1.000\n",
      "Episode:  51000.0, Mean reward: +9.39, Mean moves:  3.63, Win %: 0.990\n",
      "Episode:  52000.0, Mean reward: +9.21, Mean moves:  3.55, Win %: 0.980\n",
      "Episode:  53000.0, Mean reward: +9.28, Mean moves:  3.30, Win %: 0.980\n",
      "Episode:  54000.0, Mean reward: +9.24, Mean moves:  3.43, Win %: 0.980\n",
      "Episode:  55000.0, Mean reward: +8.83, Mean moves:  4.29, Win %: 0.970\n",
      "Episode:  56000.0, Mean reward: +9.46, Mean moves:  3.35, Win %: 0.990\n",
      "Episode:  57000.0, Mean reward: +8.83, Mean moves:  3.48, Win %: 0.960\n",
      "Episode:  58000.0, Mean reward: +9.38, Mean moves:  3.68, Win %: 0.990\n",
      "Episode:  59000.0, Mean reward: +8.98, Mean moves:  3.67, Win %: 0.970\n",
      "Episode:  60000.0, Mean reward: +9.01, Mean moves:  3.56, Win %: 0.970\n",
      "Episode:  61000.0, Mean reward: +8.66, Mean moves:  3.35, Win %: 0.950\n",
      "Episode:  62000.0, Mean reward: +9.67, Mean moves:  3.32, Win %: 1.000\n",
      "Episode:  63000.0, Mean reward: +9.23, Mean moves:  3.47, Win %: 0.980\n",
      "Episode:  64000.0, Mean reward: +9.61, Mean moves:  3.58, Win %: 1.000\n",
      "Episode:  65000.0, Mean reward: +9.39, Mean moves:  3.63, Win %: 0.990\n",
      "Episode:  66000.0, Mean reward: +9.19, Mean moves:  3.64, Win %: 0.980\n",
      "Episode:  67000.0, Mean reward: +9.41, Mean moves:  3.55, Win %: 0.990\n",
      "Episode:  68000.0, Mean reward: +9.67, Mean moves:  3.31, Win %: 1.000\n",
      "Episode:  69000.0, Mean reward: +9.62, Mean moves:  3.50, Win %: 1.000\n",
      "Episode:  70000.0, Mean reward: +9.61, Mean moves:  3.55, Win %: 1.000\n",
      "Episode:  71000.0, Mean reward: +9.60, Mean moves:  3.62, Win %: 1.000\n",
      "Episode:  72000.0, Mean reward: +9.26, Mean moves:  3.35, Win %: 0.980\n",
      "Episode:  73000.0, Mean reward: +8.82, Mean moves:  3.53, Win %: 0.960\n",
      "Episode:  74000.0, Mean reward: +9.61, Mean moves:  3.56, Win %: 1.000\n",
      "Episode:  75000.0, Mean reward: +9.61, Mean moves:  3.57, Win %: 1.000\n",
      "Episode:  76000.0, Mean reward: +9.44, Mean moves:  3.46, Win %: 0.990\n",
      "Episode:  77000.0, Mean reward: +9.68, Mean moves:  3.28, Win %: 1.000\n",
      "Episode:  78000.0, Mean reward: +9.39, Mean moves:  3.63, Win %: 0.990\n",
      "Episode:  79000.0, Mean reward: +9.63, Mean moves:  3.49, Win %: 1.000\n",
      "Episode:  80000.0, Mean reward: +9.42, Mean moves:  3.53, Win %: 0.990\n",
      "Episode:  81000.0, Mean reward: +9.27, Mean moves:  3.32, Win %: 0.980\n",
      "Episode:  82000.0, Mean reward: +9.25, Mean moves:  3.39, Win %: 0.980\n",
      "Episode:  83000.0, Mean reward: +9.26, Mean moves:  3.38, Win %: 0.980\n",
      "Episode:  84000.0, Mean reward: +9.62, Mean moves:  3.50, Win %: 1.000\n",
      "Episode:  85000.0, Mean reward: +8.61, Mean moves:  3.57, Win %: 0.950\n",
      "Episode:  86000.0, Mean reward: +9.25, Mean moves:  3.41, Win %: 0.980\n",
      "Episode:  87000.0, Mean reward: +9.23, Mean moves:  3.49, Win %: 0.980\n",
      "Episode:  88000.0, Mean reward: +9.28, Mean moves:  3.30, Win %: 0.980\n",
      "Episode:  89000.0, Mean reward: +9.61, Mean moves:  3.58, Win %: 1.000\n",
      "Episode:  90000.0, Mean reward: +9.02, Mean moves:  3.54, Win %: 0.970\n",
      "Episode:  91000.0, Mean reward: +9.47, Mean moves:  3.33, Win %: 0.990\n",
      "Episode:  92000.0, Mean reward: +9.44, Mean moves:  3.45, Win %: 0.990\n",
      "Episode:  93000.0, Mean reward: +9.45, Mean moves:  3.42, Win %: 0.990\n",
      "Episode:  94000.0, Mean reward: +9.73, Mean moves:  3.09, Win %: 1.000\n",
      "Episode:  95000.0, Mean reward: +9.45, Mean moves:  3.41, Win %: 0.990\n",
      "Episode:  96000.0, Mean reward: +8.83, Mean moves:  3.48, Win %: 0.960\n",
      "Episode:  97000.0, Mean reward: +9.04, Mean moves:  3.45, Win %: 0.970\n",
      "Episode:  98000.0, Mean reward: +9.43, Mean moves:  3.47, Win %: 0.990\n",
      "Episode:  99000.0, Mean reward: +9.42, Mean moves:  3.51, Win %: 0.990\n"
     ]
    }
   ],
   "source": [
    "for n in range(N_episodes):\n",
    "  epsilon_f = epsilon_0 / (1 + beta * n)   # decay epsilon\n",
    "  done = 0                                 # not done\n",
    "  i = 1                                    # number of moves\n",
    "  \n",
    "  S, X, allowed_a = env.Initialise_game()      # reset environment\n",
    "\n",
    "  X = np.concatenate([np.array(X), np.array([1])]).reshape(-1,1) # pad with one for bias\n",
    "\n",
    "  tot_r = 0\n",
    "\n",
    "\n",
    "  while done == 0:                           # start episode\n",
    "    q_vals, h = model_nn.forward(X)          # get q values from network and preactivations\n",
    "\n",
    "    action = choose_action(q_vals, allowed_a, epsilon_f) # choose action using epsilon greedy\n",
    "\n",
    "    S_next, X_next, allowed_a_next, R, done = env.OneStep(action)  # take step\n",
    "    X_next = np.concatenate([np.array(X_next), np.array([1])]).reshape(-1,1) \n",
    "\n",
    "    \n",
    "    if done==1:  # episode is done\n",
    "      target = R  # target reward\n",
    "      if(R==10): # if won\n",
    "        win_draw.append(1)\n",
    "      else:      # if draw\n",
    "        win_draw.append(0)\n",
    "\n",
    "      target_vector = np.copy(q_vals)    \n",
    "      target_vector[action] = target    # get target q value\n",
    "\n",
    "    else:\n",
    "      q_vals_next, _ = target_nn.forward(X_next)    # use target net to get future q value\n",
    "      action_next = choose_action(q_vals_next, allowed_a_next, epsilon_f)  # choose next action according to epsilon greedy\n",
    "\n",
    "      target = R + gamma * q_vals_next[action_next]  # set target\n",
    "      target_vector = np.copy(q_vals)\n",
    "      target_vector[action] = target\n",
    "\n",
    "\n",
    "    model_nn.fit(target_vector, q_vals, h, X)   # fit the model\n",
    "   \n",
    "    tot_r += R  # add total reward\n",
    "\n",
    "    # NEXT STATE AND CO. BECOME ACTUAL STATE...     \n",
    "    S = np.copy(S_next)\n",
    "    X = np.copy(X_next)\n",
    "    allowed_a = np.copy(allowed_a_next)\n",
    "    \n",
    "    i += 1  # UPDATE COUNTER FOR NUMBER OF ACTIONS\n",
    "\n",
    "\n",
    "  r_save.append(tot_r)\n",
    "  n_moves_save.append(i)\n",
    "\n",
    "  if(n>=1000 and n%1000==0):\n",
    "    print(\"Episode: {:8.1f}, Mean reward: {:+5.2f}, Mean moves: {:5.2f}, Win %: {:.3f}\".format(n, np.mean(r_save[-100:]), \n",
    "          np.mean(n_moves_save[-100:]), np.mean(win_draw[-100:])))\n",
    "  \n",
    "  if(n%n_target_updates==0):\n",
    "      target_nn = copy.deepcopy(model_nn)   # update the target network\n",
    "  "
   ]
  },
  {
   "cell_type": "markdown",
   "metadata": {},
   "source": [
    "## Plot graphs\n"
   ]
  },
  {
   "cell_type": "code",
   "execution_count": 8,
   "metadata": {},
   "outputs": [
    {
     "data": {
      "image/png": "[encoded data removed]",
      "text/plain": [
       "<Figure size 432x288 with 1 Axes>"
      ]
     },
     "metadata": {
      "needs_background": "light"
     },
     "output_type": "display_data"
    },
    {
     "data": {
      "image/png": "[encoded data removed]",
      "text/plain": [
       "<Figure size 432x288 with 1 Axes>"
      ]
     },
     "metadata": {
      "needs_background": "light"
     },
     "output_type": "display_data"
    },
    {
     "data": {
      "image/png": "[encoded data removed]",
      "text/plain": [
       "<Figure size 432x288 with 1 Axes>"
      ]
     },
     "metadata": {
      "needs_background": "light"
     },
     "output_type": "display_data"
    }
   ],
   "source": [
    "plot(r_save, 'Rewards', 'episode', 'reward', c = 'b', exp=True)\n",
    "plot(n_moves_save, 'Moves', 'episode', 'No. of moves', c = 'r', exp=True)\n",
    "plot(win_draw, 'Win', 'episode', 'Win %', c = 'g', exp=False)"
   ]
  },
  {
   "cell_type": "markdown",
   "metadata": {},
   "source": [
    "## Reset network and variables"
   ]
  },
  {
   "cell_type": "code",
   "execution_count": 9,
   "metadata": {},
   "outputs": [],
   "source": [
    "# neural network\n",
    "model_nn = NeuralNetwork(input_size=N_in, output_size=N_a, hidden_size=N_h ,learning_rate = eta)\n",
    "target_nn = copy.deepcopy(model_nn)"
   ]
  },
  {
   "cell_type": "code",
   "execution_count": 10,
   "metadata": {},
   "outputs": [],
   "source": [
    "r_save = []\n",
    "n_moves_save = []\n",
    "win_draw = []"
   ]
  },
  {
   "cell_type": "markdown",
   "metadata": {},
   "source": [
    "# Q Learning"
   ]
  },
  {
   "cell_type": "code",
   "execution_count": 11,
   "metadata": {},
   "outputs": [
    {
     "name": "stdout",
     "output_type": "stream",
     "text": [
      "Episode:   1000.0, Mean reward: +1.53, Mean moves: 11.86, Win %: 0.700\n",
      "Episode:   2000.0, Mean reward: +5.32, Mean moves:  6.34, Win %: 0.820\n",
      "Episode:   3000.0, Mean reward: +5.56, Mean moves:  6.97, Win %: 0.840\n",
      "Episode:   4000.0, Mean reward: +6.53, Mean moves:  6.28, Win %: 0.880\n",
      "Episode:   5000.0, Mean reward: +6.04, Mean moves:  6.63, Win %: 0.860\n",
      "Episode:   6000.0, Mean reward: +8.03, Mean moves:  5.10, Win %: 0.940\n",
      "Episode:   7000.0, Mean reward: +7.68, Mean moves:  5.69, Win %: 0.930\n",
      "Episode:   8000.0, Mean reward: +7.89, Mean moves:  4.83, Win %: 0.930\n",
      "Episode:   9000.0, Mean reward: +7.59, Mean moves:  5.24, Win %: 0.920\n",
      "Episode:  10000.0, Mean reward: +7.58, Mean moves:  3.66, Win %: 0.900\n",
      "Episode:  11000.0, Mean reward: +7.33, Mean moves:  4.66, Win %: 0.900\n",
      "Episode:  12000.0, Mean reward: +7.81, Mean moves:  4.35, Win %: 0.920\n",
      "Episode:  13000.0, Mean reward: +8.22, Mean moves:  4.30, Win %: 0.940\n",
      "Episode:  14000.0, Mean reward: +8.26, Mean moves:  4.17, Win %: 0.940\n",
      "Episode:  15000.0, Mean reward: +7.46, Mean moves:  4.96, Win %: 0.910\n",
      "Episode:  16000.0, Mean reward: +9.29, Mean moves:  4.02, Win %: 0.990\n",
      "Episode:  17000.0, Mean reward: +8.81, Mean moves:  4.37, Win %: 0.970\n",
      "Episode:  18000.0, Mean reward: +7.36, Mean moves:  4.58, Win %: 0.900\n",
      "Episode:  19000.0, Mean reward: +7.49, Mean moves:  4.04, Win %: 0.900\n",
      "Episode:  20000.0, Mean reward: +8.18, Mean moves:  4.48, Win %: 0.940\n",
      "Episode:  21000.0, Mean reward: +8.31, Mean moves:  3.97, Win %: 0.940\n",
      "Episode:  22000.0, Mean reward: +8.54, Mean moves:  3.83, Win %: 0.950\n",
      "Episode:  23000.0, Mean reward: +8.41, Mean moves:  4.37, Win %: 0.950\n",
      "Episode:  24000.0, Mean reward: +8.32, Mean moves:  3.93, Win %: 0.940\n",
      "Episode:  25000.0, Mean reward: +8.06, Mean moves:  4.16, Win %: 0.930\n",
      "Episode:  26000.0, Mean reward: +8.35, Mean moves:  3.80, Win %: 0.940\n",
      "Episode:  27000.0, Mean reward: +8.69, Mean moves:  4.05, Win %: 0.960\n",
      "Episode:  28000.0, Mean reward: +8.73, Mean moves:  3.87, Win %: 0.960\n",
      "Episode:  29000.0, Mean reward: +8.94, Mean moves:  3.85, Win %: 0.970\n",
      "Episode:  30000.0, Mean reward: +8.89, Mean moves:  4.04, Win %: 0.970\n",
      "Episode:  31000.0, Mean reward: +8.93, Mean moves:  3.90, Win %: 0.970\n",
      "Episode:  32000.0, Mean reward: +9.06, Mean moves:  4.15, Win %: 0.980\n",
      "Episode:  33000.0, Mean reward: +8.85, Mean moves:  4.19, Win %: 0.970\n",
      "Episode:  34000.0, Mean reward: +9.25, Mean moves:  4.20, Win %: 0.990\n",
      "Episode:  35000.0, Mean reward: +8.90, Mean moves:  4.00, Win %: 0.970\n",
      "Episode:  36000.0, Mean reward: +9.60, Mean moves:  3.62, Win %: 1.000\n",
      "Episode:  37000.0, Mean reward: +8.84, Mean moves:  4.23, Win %: 0.970\n",
      "Episode:  38000.0, Mean reward: +9.37, Mean moves:  3.72, Win %: 0.990\n",
      "Episode:  39000.0, Mean reward: +8.37, Mean moves:  3.73, Win %: 0.940\n",
      "Episode:  40000.0, Mean reward: +8.99, Mean moves:  3.65, Win %: 0.970\n",
      "Episode:  41000.0, Mean reward: +8.32, Mean moves:  3.92, Win %: 0.940\n",
      "Episode:  42000.0, Mean reward: +8.97, Mean moves:  3.73, Win %: 0.970\n",
      "Episode:  43000.0, Mean reward: +8.96, Mean moves:  3.77, Win %: 0.970\n",
      "Episode:  44000.0, Mean reward: +8.69, Mean moves:  4.06, Win %: 0.960\n",
      "Episode:  45000.0, Mean reward: +8.68, Mean moves:  4.07, Win %: 0.960\n",
      "Episode:  46000.0, Mean reward: +8.93, Mean moves:  3.89, Win %: 0.970\n",
      "Episode:  47000.0, Mean reward: +8.96, Mean moves:  3.75, Win %: 0.970\n",
      "Episode:  48000.0, Mean reward: +8.99, Mean moves:  4.42, Win %: 0.980\n",
      "Episode:  49000.0, Mean reward: +9.33, Mean moves:  3.89, Win %: 0.990\n",
      "Episode:  50000.0, Mean reward: +9.13, Mean moves:  3.88, Win %: 0.980\n",
      "Episode:  51000.0, Mean reward: +9.37, Mean moves:  3.72, Win %: 0.990\n",
      "Episode:  52000.0, Mean reward: +8.77, Mean moves:  3.74, Win %: 0.960\n",
      "Episode:  53000.0, Mean reward: +9.15, Mean moves:  3.81, Win %: 0.980\n",
      "Episode:  54000.0, Mean reward: +8.34, Mean moves:  3.85, Win %: 0.940\n",
      "Episode:  55000.0, Mean reward: +9.17, Mean moves:  4.52, Win %: 0.990\n",
      "Episode:  56000.0, Mean reward: +9.08, Mean moves:  4.07, Win %: 0.980\n",
      "Episode:  57000.0, Mean reward: +8.78, Mean moves:  3.68, Win %: 0.960\n",
      "Episode:  58000.0, Mean reward: +8.96, Mean moves:  3.74, Win %: 0.970\n",
      "Episode:  59000.0, Mean reward: +9.04, Mean moves:  4.22, Win %: 0.980\n",
      "Episode:  60000.0, Mean reward: +8.89, Mean moves:  3.25, Win %: 0.960\n",
      "Episode:  61000.0, Mean reward: +9.53, Mean moves:  3.87, Win %: 1.000\n",
      "Episode:  62000.0, Mean reward: +9.21, Mean moves:  3.55, Win %: 0.980\n",
      "Episode:  63000.0, Mean reward: +9.18, Mean moves:  4.50, Win %: 0.990\n",
      "Episode:  64000.0, Mean reward: +9.34, Mean moves:  3.84, Win %: 0.990\n",
      "Episode:  65000.0, Mean reward: +8.81, Mean moves:  3.55, Win %: 0.960\n",
      "Episode:  66000.0, Mean reward: +9.03, Mean moves:  3.49, Win %: 0.970\n",
      "Episode:  67000.0, Mean reward: +9.23, Mean moves:  3.46, Win %: 0.980\n",
      "Episode:  68000.0, Mean reward: +9.23, Mean moves:  3.47, Win %: 0.980\n",
      "Episode:  69000.0, Mean reward: +9.47, Mean moves:  3.33, Win %: 0.990\n",
      "Episode:  70000.0, Mean reward: +9.20, Mean moves:  3.62, Win %: 0.980\n",
      "Episode:  71000.0, Mean reward: +8.79, Mean moves:  3.63, Win %: 0.960\n",
      "Episode:  72000.0, Mean reward: +8.98, Mean moves:  3.69, Win %: 0.970\n",
      "Episode:  73000.0, Mean reward: +8.97, Mean moves:  3.73, Win %: 0.970\n",
      "Episode:  74000.0, Mean reward: +9.11, Mean moves:  3.96, Win %: 0.980\n",
      "Episode:  75000.0, Mean reward: +9.04, Mean moves:  3.44, Win %: 0.970\n",
      "Episode:  76000.0, Mean reward: +9.15, Mean moves:  3.78, Win %: 0.980\n",
      "Episode:  77000.0, Mean reward: +8.80, Mean moves:  3.59, Win %: 0.960\n",
      "Episode:  78000.0, Mean reward: +9.46, Mean moves:  3.38, Win %: 0.990\n",
      "Episode:  79000.0, Mean reward: +9.25, Mean moves:  3.40, Win %: 0.980\n",
      "Episode:  80000.0, Mean reward: +9.22, Mean moves:  3.51, Win %: 0.980\n",
      "Episode:  81000.0, Mean reward: +9.26, Mean moves:  3.36, Win %: 0.980\n",
      "Episode:  82000.0, Mean reward: +9.23, Mean moves:  3.46, Win %: 0.980\n",
      "Episode:  83000.0, Mean reward: +9.53, Mean moves:  3.88, Win %: 1.000\n",
      "Episode:  84000.0, Mean reward: +9.39, Mean moves:  3.64, Win %: 0.990\n",
      "Episode:  85000.0, Mean reward: +9.21, Mean moves:  3.56, Win %: 0.980\n",
      "Episode:  86000.0, Mean reward: +9.68, Mean moves:  3.30, Win %: 1.000\n",
      "Episode:  87000.0, Mean reward: +9.64, Mean moves:  3.45, Win %: 1.000\n",
      "Episode:  88000.0, Mean reward: +8.62, Mean moves:  3.52, Win %: 0.950\n",
      "Episode:  89000.0, Mean reward: +9.41, Mean moves:  3.56, Win %: 0.990\n",
      "Episode:  90000.0, Mean reward: +9.40, Mean moves:  3.60, Win %: 0.990\n",
      "Episode:  91000.0, Mean reward: +9.56, Mean moves:  3.74, Win %: 1.000\n",
      "Episode:  92000.0, Mean reward: +9.67, Mean moves:  3.32, Win %: 1.000\n",
      "Episode:  93000.0, Mean reward: +9.65, Mean moves:  3.39, Win %: 1.000\n",
      "Episode:  94000.0, Mean reward: +9.45, Mean moves:  3.40, Win %: 0.990\n",
      "Episode:  95000.0, Mean reward: +9.25, Mean moves:  3.39, Win %: 0.980\n",
      "Episode:  96000.0, Mean reward: +9.01, Mean moves:  3.58, Win %: 0.970\n",
      "Episode:  97000.0, Mean reward: +9.42, Mean moves:  3.53, Win %: 0.990\n",
      "Episode:  98000.0, Mean reward: +9.48, Mean moves:  3.27, Win %: 0.990\n",
      "Episode:  99000.0, Mean reward: +9.65, Mean moves:  3.40, Win %: 1.000\n"
     ]
    }
   ],
   "source": [
    "for n in range(N_episodes):\n",
    "  epsilon_f = epsilon_0 / (1 + beta * n)   # decay epsilon\n",
    "  done = 0                                 # not done\n",
    "  i = 1                                    # number of moves\n",
    "  \n",
    "  S, X, allowed_a = env.Initialise_game()      # reset environment\n",
    "\n",
    "  X = np.concatenate([np.array(X), np.array([1])]).reshape(-1,1) # pad with one for bias\n",
    "\n",
    "  tot_r = 0\n",
    "\n",
    "\n",
    "  while done == 0:                           # start episode\n",
    "    q_vals, h = model_nn.forward(X)          # get q values from network and preactivations\n",
    "\n",
    "    action = choose_action(q_vals, allowed_a, epsilon_f) # choose action using epsilon greedy\n",
    "\n",
    "    S_next, X_next, allowed_a_next, R, done = env.OneStep(action)  # take step\n",
    "    X_next = np.concatenate([np.array(X_next), np.array([1])]).reshape(-1,1) \n",
    "\n",
    "    \n",
    "    if done==1:  # episode is done\n",
    "      target = R  # target reward\n",
    "      if(R==10): # if won\n",
    "        win_draw.append(1)\n",
    "      else:      # if draw\n",
    "        win_draw.append(0)\n",
    "\n",
    "      target_vector = np.copy(q_vals)    \n",
    "      target_vector[action] = target    # get target q value\n",
    "\n",
    "    else:\n",
    "      q_vals_next, _ = target_nn.forward(X_next)    # use target net to get future q value\n",
    "      q_valid_next = q_vals_next * allowed_a_next\n",
    "      q_valid_next[allowed_a_next==0] = -np.inf\n",
    "\n",
    "      target = R + gamma * max(np.max(q_valid_next), 0) \n",
    "      target_vector = np.copy(q_vals)\n",
    "      target_vector[action] = target\n",
    "\n",
    "\n",
    "    model_nn.fit(target_vector, q_vals, h, X)   # fit the model\n",
    "   \n",
    "    tot_r += R  # add total reward\n",
    "\n",
    "    # NEXT STATE AND CO. BECOME ACTUAL STATE...     \n",
    "    S = np.copy(S_next)\n",
    "    X = np.copy(X_next)\n",
    "    allowed_a = np.copy(allowed_a_next)\n",
    "    \n",
    "    i += 1  # UPDATE COUNTER FOR NUMBER OF ACTIONS\n",
    "\n",
    "\n",
    "  r_save.append(tot_r)\n",
    "  n_moves_save.append(i)\n",
    "\n",
    "  if(n>=1000 and n%1000==0):\n",
    "    print(\"Episode: {:8.1f}, Mean reward: {:+5.2f}, Mean moves: {:5.2f}, Win %: {:.3f}\".format(n, np.mean(r_save[-100:]), \n",
    "          np.mean(n_moves_save[-100:]), np.mean(win_draw[-100:])))\n",
    "  \n",
    "  if(n%n_target_updates==0):\n",
    "      target_nn = copy.deepcopy(model_nn)   # update the target network"
   ]
  },
  {
   "cell_type": "markdown",
   "metadata": {},
   "source": [
    "### Plot graphs"
   ]
  },
  {
   "cell_type": "code",
   "execution_count": 12,
   "metadata": {},
   "outputs": [
    {
     "data": {
      "image/png": "[encoded data removed]",
      "text/plain": [
       "<Figure size 432x288 with 1 Axes>"
      ]
     },
     "metadata": {
      "needs_background": "light"
     },
     "output_type": "display_data"
    },
    {
     "data": {
      "image/png": "[encoded data removed]",
      "text/plain": [
       "<Figure size 432x288 with 1 Axes>"
      ]
     },
     "metadata": {
      "needs_background": "light"
     },
     "output_type": "display_data"
    },
    {
     "data": {
      "image/png": "[encoded data removed]",
      "text/plain": [
       "<Figure size 432x288 with 1 Axes>"
      ]
     },
     "metadata": {
      "needs_background": "light"
     },
     "output_type": "display_data"
    }
   ],
   "source": [
    "plot(r_save, 'Rewards', 'episode', 'reward', c = 'b', exp=True)\n",
    "plot(n_moves_save, 'Moves', 'episode', 'No. of moves', c = 'r', exp=True)\n",
    "plot(win_draw, 'Win', 'episode', 'Win %', c = 'g', exp=False)"
   ]
  }
 ],
 "metadata": {
  "interpreter": {
   "hash": "d370c8f8ba1f4e6df296548175b2db495be0ae687f03750e61a25b28bdff8821"
  },
  "kernelspec": {
   "display_name": "Python 3.10.0 ('env')",
   "language": "python",
   "name": "python3"
  },
  "language_info": {
   "codemirror_mode": {
    "name": "ipython",
    "version": 3
   },
   "file_extension": ".py",
   "mimetype": "text/x-python",
   "name": "python",
   "nbconvert_exporter": "python",
   "pygments_lexer": "ipython3",
   "version": "3.10.0"
  },
  "orig_nbformat": 4
 },
 "nbformat": 4,
 "nbformat_minor": 2
}
